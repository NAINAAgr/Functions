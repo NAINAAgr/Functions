{
  "nbformat": 4,
  "nbformat_minor": 0,
  "metadata": {
    "colab": {
      "provenance": []
    },
    "kernelspec": {
      "name": "python3",
      "display_name": "Python 3"
    },
    "language_info": {
      "name": "python"
    }
  },
  "cells": [
    {
      "cell_type": "markdown",
      "source": [
        "1) What is the difference between a function and a method in Python?\n",
        "   ->A function is a block of code that performs a task and is defined using def.\n",
        "  A method is a function associated with an object (i.e., defined inside a class).\n",
        "  Example:\n",
        "  \n",
        "  def greet():\n",
        "    return \"Hello!\"  # Function\n",
        "\n",
        "class Person:\n",
        "    def say_hi(self):\n",
        "        return \"Hi!\"  # Method\n"
      ],
      "metadata": {
        "id": "BePPsqqqaYW0"
      }
    },
    {
      "cell_type": "markdown",
      "source": [
        "2)Explain the concept of function arguments and parameters in Python.\n",
        "  -> Parameters are variables listed in the function definition.\n",
        " Arguments are actual values passed when calling the function.\n",
        "Example:\n",
        "def add(a, b):  # Parameters\n",
        "    return a + b\n",
        "\n",
        "add(5, 3)  # Arguments\n"
      ],
      "metadata": {
        "id": "8HQ4jfUga7mW"
      }
    },
    {
      "cell_type": "markdown",
      "source": [
        "3) What are the different ways to define and call a function in Python?\n",
        "  ->Define using def, call using the function name.\n",
        "   Use lambda for anonymous functions.\n",
        "   Example:\n",
        "   \n",
        "def square(x):\n",
        "    return x * x\n",
        "\n",
        "print(square(4))  # Function call\n",
        "  \n",
        "square_lambda = lambda x: x * x\n",
        "print(square_lambda(4)) #Lambda\n"
      ],
      "metadata": {
        "id": "eRvIvYLgbiL8"
      }
    },
    {
      "cell_type": "markdown",
      "source": [
        "4) What is the purpose of the `return` statement in a Python function?\n",
        "   -> return exits the function and sends back a value to the caller.\n",
        "   Example:\n",
        "   def multiply(a, b):\n",
        "    return a * b\n"
      ],
      "metadata": {
        "id": "S8ppG2p-cJMY"
      }
    },
    {
      "cell_type": "markdown",
      "source": [
        "5) What are iterators in Python and how do they differ from iterables?\n",
        "   ->Iterable: Can be looped over (e.g., list, tuple).\n",
        "  Iterator: Object with __next__() and __iter__().\n",
        "  Example:\n",
        " my_list = [1, 2, 3]\n",
        "it = iter(my_list)  # Iterator from iterable\n",
        "print(next(it))\n"
      ],
      "metadata": {
        "id": "zH5yWPTsb5Ye"
      }
    },
    {
      "cell_type": "markdown",
      "source": [
        "6) Explain the concept of generators in Python and how they are defined.\n",
        "  -> Special functions that use yield to return a sequence of values lazily.\n",
        "  Example:\n",
        "def countdown(n):\n",
        "    while n > 0:\n",
        "        yield n\n",
        "        n -= 1\n"
      ],
      "metadata": {
        "id": "xHGP5y9Ncxi4"
      }
    },
    {
      "cell_type": "markdown",
      "source": [
        "7) What are the advantages of using generators over regular functions?\n",
        "   -> Memory efficient.\n",
        "  Lazy evaluation.\n",
        "  Useful for large datasets or infinite sequences."
      ],
      "metadata": {
        "id": "6f4yXorVdFfc"
      }
    },
    {
      "cell_type": "markdown",
      "source": [
        "8)  What is a lambda function in Python and when is it typically used?\n",
        "   -> Anonymous, inline function using lambda.\n",
        "  Example:\n",
        "double = lambda x: x * 2\n",
        "print(double(5))  # Output: 10\n"
      ],
      "metadata": {
        "id": "Gi1cWc3edTR8"
      }
    },
    {
      "cell_type": "markdown",
      "source": [
        "9) Explain the purpose and usage of the `map()` function in Python.\n",
        "  -> Applies a function to every item in an iterable.\n",
        "  Example:\n",
        "nums = [1, 2, 3]\n",
        "squared = list(map(lambda x: x**2, nums))\n"
      ],
      "metadata": {
        "id": "8uRddqt9dhvS"
      }
    },
    {
      "cell_type": "markdown",
      "source": [
        "10)What is the difference between `map()`, `reduce()`, and `filter()` functions in Python?\n",
        "  -> map(): Transforms each item.\n",
        "   reduce(): Aggregates items to a single result.\n",
        "   filter(): Filters items based on a condition.\n",
        "  Example:\n",
        "from functools import reduce\n",
        "\n",
        "nums = [1, 2, 3, 4]\n",
        "print(list(map(lambda x: x * 2, nums)))  # [2, 4, 6, 8]\n",
        "print(list(filter(lambda x: x % 2 == 0, nums)))  # [2, 4]\n",
        "print(reduce(lambda x, y: x + y, nums))  # 10\n"
      ],
      "metadata": {
        "id": "_YWB2e2Ddy5M"
      }
    },
    {
      "cell_type": "markdown",
      "source": [
        "11) Using pen & Paper write the internal mechanism for sum operation using  reduce function on this given list:[47,11,42,13];\n",
        "  ->The reduce function, when used with a summing operation on the list ``, works by iteratively applying an addition operation to pairs of elements. It starts with the first two elements, then adds the result to the next element, and so on, until a single sum is obtained. In this case, the internal mechanism would be:\n",
        "47 + 11 = 58\n",
        "58 + 42 = 100\n",
        "100 + 13 = 113\n",
        "Therefore, the final sum, which is the result of the reduce function, would be 113."
      ],
      "metadata": {
        "id": "UccwXTu6eMpQ"
      }
    },
    {
      "cell_type": "code",
      "source": [
        "# 1)  Write a Python function that takes a list of numbers as input and returns the sum of all even numbers in the list.\n",
        "def sum_even_numbers(numbers):\n",
        "\n",
        "    even_sum = 0\n",
        "    for number in numbers:\n",
        "        if number % 2 == 0:\n",
        "            even_sum += number\n",
        "    return even_sum\n"
      ],
      "metadata": {
        "id": "tWRrKlG0fl0C"
      },
      "execution_count": 2,
      "outputs": []
    },
    {
      "cell_type": "code",
      "source": [
        "# 2) Create a Python function that accepts a string and returns the reverse of that string.\n",
        "def reverse_string(s):\n",
        "    return s[::-1]\n"
      ],
      "metadata": {
        "id": "hUXnXT_YgFcv"
      },
      "execution_count": 3,
      "outputs": []
    },
    {
      "cell_type": "code",
      "source": [
        "# 3) Implement a Python function that takes a list of integers and returns a new list containing the squares of each number.\n",
        "def square_numbers(numbers):\n",
        "    return [number ** 2 for number in numbers]"
      ],
      "metadata": {
        "id": "UiHZfm00gb4E"
      },
      "execution_count": 4,
      "outputs": []
    },
    {
      "cell_type": "code",
      "source": [
        "# 4) Write a Python function that checks if a given number is prime or not from 1 to 200.\n",
        "import math\n",
        "\n",
        "def is_prime(num):\n",
        "\n",
        "    if num <= 1:\n",
        "        return False  # Numbers less than or equal to 1 are not prime\n",
        "\n",
        "    # Check for divisibility from 2 up to the square root of the number\n",
        "    for i in range(2, int(math.sqrt(num)) + 1):\n",
        "        if num % i == 0:\n",
        "            return False  # If divisible, it's not prime\n",
        "\n",
        "    return True  # If no divisors found, it's prime\n",
        "\n",
        "def check_primes_in_range(start, end):\n",
        "\n",
        "    if start > end:\n",
        "        print(\"Invalid range: Start cannot be greater than end.\")\n",
        "        return\n",
        "\n",
        "    print(f\"Checking prime numbers from {start} to {end}:\")\n",
        "    for number in range(start, end + 1):\n",
        "        if is_prime(number):\n",
        "            print(f\"{number} is prime.\")\n",
        "        else:\n",
        "            print(f\"{number} is not prime.\")\n",
        "\n",
        "check_primes_in_range(1, 200)\n"
      ],
      "metadata": {
        "colab": {
          "base_uri": "https://localhost:8080/"
        },
        "collapsed": true,
        "id": "7pvowIGJgvhX",
        "outputId": "a8fbea23-297b-469a-e53a-838d63feb952"
      },
      "execution_count": 7,
      "outputs": [
        {
          "output_type": "stream",
          "name": "stdout",
          "text": [
            "Checking prime numbers from 1 to 200:\n",
            "1 is not prime.\n",
            "2 is prime.\n",
            "3 is prime.\n",
            "4 is not prime.\n",
            "5 is prime.\n",
            "6 is not prime.\n",
            "7 is prime.\n",
            "8 is not prime.\n",
            "9 is not prime.\n",
            "10 is not prime.\n",
            "11 is prime.\n",
            "12 is not prime.\n",
            "13 is prime.\n",
            "14 is not prime.\n",
            "15 is not prime.\n",
            "16 is not prime.\n",
            "17 is prime.\n",
            "18 is not prime.\n",
            "19 is prime.\n",
            "20 is not prime.\n",
            "21 is not prime.\n",
            "22 is not prime.\n",
            "23 is prime.\n",
            "24 is not prime.\n",
            "25 is not prime.\n",
            "26 is not prime.\n",
            "27 is not prime.\n",
            "28 is not prime.\n",
            "29 is prime.\n",
            "30 is not prime.\n",
            "31 is prime.\n",
            "32 is not prime.\n",
            "33 is not prime.\n",
            "34 is not prime.\n",
            "35 is not prime.\n",
            "36 is not prime.\n",
            "37 is prime.\n",
            "38 is not prime.\n",
            "39 is not prime.\n",
            "40 is not prime.\n",
            "41 is prime.\n",
            "42 is not prime.\n",
            "43 is prime.\n",
            "44 is not prime.\n",
            "45 is not prime.\n",
            "46 is not prime.\n",
            "47 is prime.\n",
            "48 is not prime.\n",
            "49 is not prime.\n",
            "50 is not prime.\n",
            "51 is not prime.\n",
            "52 is not prime.\n",
            "53 is prime.\n",
            "54 is not prime.\n",
            "55 is not prime.\n",
            "56 is not prime.\n",
            "57 is not prime.\n",
            "58 is not prime.\n",
            "59 is prime.\n",
            "60 is not prime.\n",
            "61 is prime.\n",
            "62 is not prime.\n",
            "63 is not prime.\n",
            "64 is not prime.\n",
            "65 is not prime.\n",
            "66 is not prime.\n",
            "67 is prime.\n",
            "68 is not prime.\n",
            "69 is not prime.\n",
            "70 is not prime.\n",
            "71 is prime.\n",
            "72 is not prime.\n",
            "73 is prime.\n",
            "74 is not prime.\n",
            "75 is not prime.\n",
            "76 is not prime.\n",
            "77 is not prime.\n",
            "78 is not prime.\n",
            "79 is prime.\n",
            "80 is not prime.\n",
            "81 is not prime.\n",
            "82 is not prime.\n",
            "83 is prime.\n",
            "84 is not prime.\n",
            "85 is not prime.\n",
            "86 is not prime.\n",
            "87 is not prime.\n",
            "88 is not prime.\n",
            "89 is prime.\n",
            "90 is not prime.\n",
            "91 is not prime.\n",
            "92 is not prime.\n",
            "93 is not prime.\n",
            "94 is not prime.\n",
            "95 is not prime.\n",
            "96 is not prime.\n",
            "97 is prime.\n",
            "98 is not prime.\n",
            "99 is not prime.\n",
            "100 is not prime.\n",
            "101 is prime.\n",
            "102 is not prime.\n",
            "103 is prime.\n",
            "104 is not prime.\n",
            "105 is not prime.\n",
            "106 is not prime.\n",
            "107 is prime.\n",
            "108 is not prime.\n",
            "109 is prime.\n",
            "110 is not prime.\n",
            "111 is not prime.\n",
            "112 is not prime.\n",
            "113 is prime.\n",
            "114 is not prime.\n",
            "115 is not prime.\n",
            "116 is not prime.\n",
            "117 is not prime.\n",
            "118 is not prime.\n",
            "119 is not prime.\n",
            "120 is not prime.\n",
            "121 is not prime.\n",
            "122 is not prime.\n",
            "123 is not prime.\n",
            "124 is not prime.\n",
            "125 is not prime.\n",
            "126 is not prime.\n",
            "127 is prime.\n",
            "128 is not prime.\n",
            "129 is not prime.\n",
            "130 is not prime.\n",
            "131 is prime.\n",
            "132 is not prime.\n",
            "133 is not prime.\n",
            "134 is not prime.\n",
            "135 is not prime.\n",
            "136 is not prime.\n",
            "137 is prime.\n",
            "138 is not prime.\n",
            "139 is prime.\n",
            "140 is not prime.\n",
            "141 is not prime.\n",
            "142 is not prime.\n",
            "143 is not prime.\n",
            "144 is not prime.\n",
            "145 is not prime.\n",
            "146 is not prime.\n",
            "147 is not prime.\n",
            "148 is not prime.\n",
            "149 is prime.\n",
            "150 is not prime.\n",
            "151 is prime.\n",
            "152 is not prime.\n",
            "153 is not prime.\n",
            "154 is not prime.\n",
            "155 is not prime.\n",
            "156 is not prime.\n",
            "157 is prime.\n",
            "158 is not prime.\n",
            "159 is not prime.\n",
            "160 is not prime.\n",
            "161 is not prime.\n",
            "162 is not prime.\n",
            "163 is prime.\n",
            "164 is not prime.\n",
            "165 is not prime.\n",
            "166 is not prime.\n",
            "167 is prime.\n",
            "168 is not prime.\n",
            "169 is not prime.\n",
            "170 is not prime.\n",
            "171 is not prime.\n",
            "172 is not prime.\n",
            "173 is prime.\n",
            "174 is not prime.\n",
            "175 is not prime.\n",
            "176 is not prime.\n",
            "177 is not prime.\n",
            "178 is not prime.\n",
            "179 is prime.\n",
            "180 is not prime.\n",
            "181 is prime.\n",
            "182 is not prime.\n",
            "183 is not prime.\n",
            "184 is not prime.\n",
            "185 is not prime.\n",
            "186 is not prime.\n",
            "187 is not prime.\n",
            "188 is not prime.\n",
            "189 is not prime.\n",
            "190 is not prime.\n",
            "191 is prime.\n",
            "192 is not prime.\n",
            "193 is prime.\n",
            "194 is not prime.\n",
            "195 is not prime.\n",
            "196 is not prime.\n",
            "197 is prime.\n",
            "198 is not prime.\n",
            "199 is prime.\n",
            "200 is not prime.\n"
          ]
        }
      ]
    },
    {
      "cell_type": "code",
      "source": [
        "# 5)  Create an iterator class in Python that generates the Fibonacci sequence up to a specified number of terms.\n",
        "class FibonacciIterator:\n",
        "    def __init__(self, num_terms):\n",
        "\n",
        "        if num_terms < 0:\n",
        "            raise ValueError(\"Number of terms must be a non-negative integer.\")\n",
        "        self._num_terms = num_terms\n",
        "        self._current_term_count = 0\n",
        "        self._a = 0  # First Fibonacci number\n",
        "        self._b = 1  # Second Fibonacci number\n",
        "\n",
        "    def __iter__(self):\n",
        "\n",
        "        return self\n",
        "\n",
        "    def __next__(self):\n",
        "\n",
        "        if self._current_term_count >= self._num_terms:\n",
        "            raise StopIteration\n",
        "\n",
        "        if self._current_term_count == 0:\n",
        "            self._current_term_count += 1\n",
        "            return 0\n",
        "        elif self._current_term_count == 1:\n",
        "            self._current_term_count += 1\n",
        "            return 1\n",
        "        else:\n",
        "            next_fib = self._a + self._b\n",
        "            self._a = self._b\n",
        "            self._b = next_fib\n",
        "            self._current_term_count += 1\n",
        "            return next_fib\n"
      ],
      "metadata": {
        "id": "04h-Ds4rhi6x"
      },
      "execution_count": 9,
      "outputs": []
    },
    {
      "cell_type": "code",
      "source": [
        "# 6) Write a generator function in Python that yields the powers of 2 up to a given exponent.\n",
        "def powers_of_two_generator(max_exponent):\n",
        "\n",
        "    for exponent in range(max_exponent + 1):\n",
        "        yield 2 ** exponent\n",
        "\n",
        "\n"
      ],
      "metadata": {
        "id": "7cQtHl3eiMHk"
      },
      "execution_count": 14,
      "outputs": []
    },
    {
      "cell_type": "code",
      "source": [
        "# 7)  Implement a generator function that reads a file line by line and yields each line as a string.\n",
        "def read_file_lines(file_path):\n",
        "    with open(file_path, 'r') as file:\n",
        "        for line in file:\n",
        "            yield line.strip()"
      ],
      "metadata": {
        "id": "ES9VmBMMi8Jf"
      },
      "execution_count": 16,
      "outputs": []
    },
    {
      "cell_type": "code",
      "source": [
        "# 8) Use a lambda function in Python to sort a list of tuples based on the second element of each tuple.\n",
        "data = [(1, 5), (3, 2), (2, 8), (5, 1)]\n",
        "sorted_data = sorted(data, key=lambda x: x[1])\n",
        "print(sorted_data)"
      ],
      "metadata": {
        "colab": {
          "base_uri": "https://localhost:8080/"
        },
        "id": "h0qxm4p4jV_H",
        "outputId": "94a08dc1-e210-4ae0-ad65-e1cf5079a229"
      },
      "execution_count": 17,
      "outputs": [
        {
          "output_type": "stream",
          "name": "stdout",
          "text": [
            "[(5, 1), (3, 2), (1, 5), (2, 8)]\n"
          ]
        }
      ]
    },
    {
      "cell_type": "code",
      "source": [
        "# 9) Write a Python program that uses `map()` to convert a list of temperatures from Celsius to Fahrenheit.\n",
        "celsius_temperatures = [0, 10, 20, 30, 40]\n",
        "fahrenheit_temperatures = list(map(lambda c: (c * 9/5) + 32, celsius_temperatures))\n",
        "print(fahrenheit_temperatures)\n"
      ],
      "metadata": {
        "colab": {
          "base_uri": "https://localhost:8080/"
        },
        "id": "zozh7P_jjpaz",
        "outputId": "df65ad57-b1c3-4607-a6b5-d35dc5843b6c"
      },
      "execution_count": 18,
      "outputs": [
        {
          "output_type": "stream",
          "name": "stdout",
          "text": [
            "[32.0, 50.0, 68.0, 86.0, 104.0]\n"
          ]
        }
      ]
    },
    {
      "cell_type": "code",
      "source": [
        " # 10) Create a Python program that uses `filter()` to remove all the vowels from a given string.\n",
        " def remove_vowels(s):\n",
        "   return ''.join(filter(lambda c: c.lower() not in 'aeiou', s))\n",
        ""
      ],
      "metadata": {
        "id": "gt0B9tx7j4EL"
      },
      "execution_count": 30,
      "outputs": []
    },
    {
      "cell_type": "code",
      "source": [
        "\"\"\" 11) ) Imagine an accounting routine used in a book shop. It works on a list with sublists, which look like this:\n",
        " order no.     book title and author             quantity     price per item\n",
        " 34587         Learning Python, Mark Lutz            4           40.95\n",
        " 98762         Programming Python, Mark Lutz         5           56.80\n",
        " 77226         Head First Python, Paul Barry         3           32.95\n",
        " 88112         Einführung in Python3, Bernd Klein    3           24.99\n",
        "Write a Python program, which returns a list with 2-tuples. Each tuple consists of the order number and the\n",
        "product of the price per item and the quantity. The product should be increased by 10,- € if the value of the\n",
        "order is smaller than 100,00 €.\n",
        "\n",
        "Write a Python program using lambda and map.\"\"\"\n",
        "orders = [\n",
        "    ['34587', 'Learning Python', 4, 40.95],\n",
        "    ['98762', 'Programming Python', 5, 56.80],\n",
        "    ['77226', 'Head First Python', 3, 32.95],\n",
        "    ['88112', 'Einführung in Python3', 3, 24.99]\n",
        "]\n",
        "\n",
        "result = list(map(lambda order:\n",
        "    (order[0], order[2] * order[3] + (10 if order[2]*order[3] < 100 else 0)),\n",
        "    orders))\n",
        "print(result)\n"
      ],
      "metadata": {
        "colab": {
          "base_uri": "https://localhost:8080/"
        },
        "id": "Q6Ow-NQHkeiy",
        "outputId": "88ed7be2-0595-414f-fd08-c5e5646f008f"
      },
      "execution_count": 31,
      "outputs": [
        {
          "output_type": "stream",
          "name": "stdout",
          "text": [
            "[('34587', 163.8), ('98762', 284.0), ('77226', 108.85000000000001), ('88112', 84.97)]\n"
          ]
        }
      ]
    }
  ]
}